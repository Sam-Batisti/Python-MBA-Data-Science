{
  "nbformat": 4,
  "nbformat_minor": 0,
  "metadata": {
    "colab": {
      "provenance": [],
      "collapsed_sections": [],
      "authorship_tag": "ABX9TyNYH4GYo6Bu7KmOcLX1mic0",
      "include_colab_link": true
    },
    "kernelspec": {
      "name": "python3",
      "display_name": "Python 3"
    },
    "language_info": {
      "name": "python"
    }
  },
  "cells": [
    {
      "cell_type": "markdown",
      "metadata": {
        "id": "view-in-github",
        "colab_type": "text"
      },
      "source": [
        "<a href=\"https://colab.research.google.com/github/Sam-Batisti/Python-MBA-Data-Science-to/blob/main/Python_MBA.ipynb\" target=\"_parent\"><img src=\"https://colab.research.google.com/assets/colab-badge.svg\" alt=\"Open In Colab\"/></a>"
      ]
    },
    {
      "cell_type": "markdown",
      "source": [
        "Operadores aritméticos em Python. \n",
        "\n",
        "| Operator     | Name           | Description                                            |\n",
        "|--------------|----------------|--------------------------------------------------------|\n",
        "| ``a + b``    | Adiçao       | Soma entre ``a`` e ``b``                                 |\n",
        "| ``a - b``    | Subtração    | Diferença entre ``a`` e ``b``                          |\n",
        "| ``a * b``    | Multiplicação | Produto entre ``a`` e ``b``                             |\n",
        "| ``a / b``    | Divisão  | Divisão usual entre ``a`` e ``b``                            |\n",
        "| ``a // b``   | Divisão inteira | A divisão entre ``a`` e ``b``, removendo as partes decimais |\n",
        "| ``a % b``    | Resto da divisão        | O resto da divisão inteira de ``a`` por ``b``     |\n",
        "| ``a ** b``   | Exponenciação | ``a`` elevado a ``b``                     |\n",
        "| ``-a``       | Negação       | O negativo de ``a``                                  |\n"
      ],
      "metadata": {
        "id": "i7BT9dJBuhLv"
      }
    },
    {
      "cell_type": "code",
      "source": [
        "a = 5\n",
        "b = 3\n",
        "\n",
        "print(a + b)\n",
        "print(a - b)\n",
        "print(a * b)\n",
        "print(a / b)\n",
        "print(a // b)\n",
        "print(a % b)\n",
        "print(a ** b)\n",
        "print(-a)\n"
      ],
      "metadata": {
        "id": "_Vhk3yOOl_Bw"
      },
      "execution_count": null,
      "outputs": []
    },
    {
      "cell_type": "markdown",
      "source": [
        "Exercício proposto 01\n",
        "\n",
        "Investique os atalhos da linguagem markdown no link abaixo e verifique as opções de escrita oferecidas que você pode utilizar nos blocos de textos dos Notebooks Python\n",
        "https://www.markdownguide.org/basic-syntax/"
      ],
      "metadata": {
        "id": "H11JyUhBgyP-"
      }
    },
    {
      "cell_type": "markdown",
      "source": [
        "Exercício proposto 02 | Aula 03\n"
      ],
      "metadata": {
        "id": "HYiYDyTaejTS"
      }
    },
    {
      "cell_type": "code",
      "execution_count": null,
      "metadata": {
        "colab": {
          "base_uri": "https://localhost:8080/"
        },
        "id": "ThG72u36eNdJ",
        "outputId": "54fef2c4-c450-46a5-ac58-5ebc29892fa1"
      },
      "outputs": [
        {
          "output_type": "stream",
          "name": "stdout",
          "text": [
            "Samantha\n",
            "Batisti\n",
            "Data science\n",
            "\"Eu posso, eu consigo!\"\n"
          ]
        }
      ],
      "source": [
        "# Faça um programa que receba como entrada a área e o perímetro de uma residência.\n",
        "# A partir de tais valores, calcule o custo para colocar piso no chão dessa casa e o custo para pintar as paredes dessa casa. Faça as suposições necessárias. "
      ]
    },
    {
      "cell_type": "markdown",
      "source": [
        "\n",
        "\n"
      ],
      "metadata": {
        "id": "j5SLqEhzlJsn"
      }
    },
    {
      "cell_type": "markdown",
      "source": [
        "Exercício proposto 03\n"
      ],
      "metadata": {
        "id": "nXhBSgWefTMw"
      }
    },
    {
      "cell_type": "code",
      "source": [],
      "metadata": {
        "id": "2Ts8wJGmfQNF"
      },
      "execution_count": null,
      "outputs": []
    }
  ]
}